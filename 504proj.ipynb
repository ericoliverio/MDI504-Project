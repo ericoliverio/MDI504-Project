{
 "cells": [
  {
   "cell_type": "code",
   "execution_count": 46,
   "metadata": {},
   "outputs": [],
   "source": [
    "import random \n",
    "import numpy as np\n",
    "import matplotlib.pyplot as plt\n",
    "\n",
    "\n",
    "def rw(n,l):\n",
    "    N = 2000 #number of experiments\n",
    "\n",
    "    D = np.zeros(N)\n",
    "    for k in range(0,N):\n",
    "        x = 0 \n",
    "        y = 0 \n",
    "        #Move\n",
    "        for i in range(0, n):\n",
    "            dire = random.randint(0,3)\n",
    "    \n",
    "            if dire == 0: #up\n",
    "                y = y + l\n",
    "            if dire == 1: #down\n",
    "                y = y - l\n",
    "            if dire == 2: #right\n",
    "                x = x + l\n",
    "            if dire == 3: #left\n",
    "                x = x - l\n",
    "    \n",
    "        #save run\n",
    "        D[k] = (x*x+y*y)\n",
    "    \n",
    "    #plt.hist(D)\n",
    "    R = np.mean(D)\n",
    "    #print(x)\n",
    "    #print(y)\n",
    "    return R"
   ]
  },
  {
   "cell_type": "code",
   "execution_count": 47,
   "metadata": {},
   "outputs": [
    {
     "name": "stdout",
     "output_type": "stream",
     "text": [
      "59.8555\n"
     ]
    }
   ],
   "source": [
    "G = rw(1000,0.25) \n",
    "print(G)"
   ]
  },
  {
   "cell_type": "code",
   "execution_count": 49,
   "metadata": {},
   "outputs": [
    {
     "data": {
      "text/plain": [
       "<matplotlib.collections.PathCollection at 0x114dfcf98>"
      ]
     },
     "execution_count": 49,
     "metadata": {},
     "output_type": "execute_result"
    },
    {
     "data": {
      "image/png": "[encoded data removed]",
      "text/plain": [
       "<Figure size 432x288 with 1 Axes>"
      ]
     },
     "metadata": {},
     "output_type": "display_data"
    }
   ],
   "source": [
    "n = 1000 \n",
    "D = np.zeros(16)\n",
    "L = np.zeros(16)\n",
    "N = np.zeros(5)\n",
    "for x in range(1,16):\n",
    "    L[x] = x*.25\n",
    "    D[x] = rw(n,L[x])\n",
    "    \n",
    "plt.scatter(L,D)\n"
   ]
  },
  {
   "cell_type": "code",
   "execution_count": null,
   "metadata": {},
   "outputs": [],
   "source": []
  }
 ],
 "metadata": {
  "kernelspec": {
   "display_name": "Python 3",
   "language": "python",
   "name": "python3"
  },
  "language_info": {
   "codemirror_mode": {
    "name": "ipython",
    "version": 3
   },
   "file_extension": ".py",
   "mimetype": "text/x-python",
   "name": "python",
   "nbconvert_exporter": "python",
   "pygments_lexer": "ipython3",
   "version": "3.6.5"
  }
 },
 "nbformat": 4,
 "nbformat_minor": 2
}
