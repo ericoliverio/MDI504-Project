{
 "cells": [
  {
   "cell_type": "code",
   "execution_count": 19,
   "metadata": {},
   "outputs": [
    {
     "name": "stdout",
     "output_type": "stream",
     "text": [
      "(355, 15)\n",
      "(355, 14)\n",
      "(284, 14)\n"
     ]
    }
   ],
   "source": [
    "import numpy as np\n",
    "import matplotlib.pyplot as plt \n",
    "from sklearn.model_selection import train_test_split\n",
    "\n",
    "#Load text\n",
    "dp = np.loadtxt('perovskite_data.txt')\n",
    "print(dp.shape)\n",
    "#print(dp[0:2,:]) \n",
    "\n",
    "pid = dp[:,0] #1/-1 for perovskite formed\n",
    "#print(id)\n",
    "\n",
    "dp = dp[:,1:]\n",
    "print(dp.shape)\n",
    "\n",
    "#normalize?\n",
    "\n",
    "#check for missing input?\n",
    "\n",
    "#Split training date\n",
    "dp_train, dp_test, pid_train, pid_test = train_test_split(dp,pid, test_size=0.2)\n",
    "print(dp_train.shape)"
   ]
  },
  {
   "cell_type": "code",
   "execution_count": null,
   "metadata": {},
   "outputs": [],
   "source": [
    "#PCA"
   ]
  }
 ],
 "metadata": {
  "kernelspec": {
   "display_name": "Python 3",
   "language": "python",
   "name": "python3"
  },
  "language_info": {
   "codemirror_mode": {
    "name": "ipython",
    "version": 3
   },
   "file_extension": ".py",
   "mimetype": "text/x-python",
   "name": "python",
   "nbconvert_exporter": "python",
   "pygments_lexer": "ipython3",
   "version": "3.6.5"
  }
 },
 "nbformat": 4,
 "nbformat_minor": 2
}
